{
 "cells": [
  {
   "cell_type": "markdown",
   "source": [
    "# MATPLOTLIB.PYPLOT PACKAGE"
   ],
   "metadata": {}
  },
  {
   "cell_type": "markdown",
   "source": [
    "## INTRODUCTION"
   ],
   "metadata": {}
  },
  {
   "cell_type": "markdown",
   "source": [
    "This notebook contains an overview of the matplotlib.pyplot Python package"
   ],
   "metadata": {}
  }
 ],
 "metadata": {
  "orig_nbformat": 4,
  "language_info": {
   "name": "python"
  }
 },
 "nbformat": 4,
 "nbformat_minor": 2
}