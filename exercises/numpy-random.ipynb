{
 "cells": [
  {
   "cell_type": "markdown",
   "id": "9edcbd28-6aeb-4b41-b0fe-4e19a15e04c9",
   "metadata": {},
   "source": [
    "# The Numpy Random Package\n",
    "\n",
    "[Official documentation](https://numpy.org/doc/stable/reference/random/index.html)\n",
    "\n",
    "***"
   ]
  },
  {
   "cell_type": "code",
   "execution_count": 1,
   "id": "6e89b26a-95ab-4f3a-900b-c5433c6415f1",
   "metadata": {},
   "outputs": [],
   "source": [
    "# Efficient numerical arrays.\n",
    "import numpy as np\n",
    "\n",
    "# Plotting.\n",
    "import matplotlib.pyplot as plt"
   ]
  },
  {
   "cell_type": "code",
   "execution_count": 2,
   "id": "71a0d0d1-6545-4422-8c48-b8021035fafc",
   "metadata": {},
   "outputs": [],
   "source": [
    "# Change default style sheet.\n",
    "plt.style.use('fivethirtyeight')\n",
    "\n",
    "# Change the default figure size.\n",
    "plt.rcParams['figure.figsize'] = [12, 6]"
   ]
  },
  {
   "cell_type": "markdown",
   "id": "4f05b59c-7e66-4bba-b3ce-162cca483cbc",
   "metadata": {},
   "source": [
    "<br>\n",
    "\n",
    "## numpy.random.normal\n",
    "\n",
    "https://numpy.org/doc/stable/reference/random/generated/numpy.random.normal.html\n",
    "\n",
    "***"
   ]
  },
  {
   "cell_type": "code",
   "execution_count": 3,
   "id": "3e697323-96d0-4c65-ab87-56ddd67f3c11",
   "metadata": {},
   "outputs": [],
   "source": [
    "mu, sigma = 0, 0.1 # mean and standard deviation\n",
    "s = np.random.normal(mu, sigma, 1000)"
   ]
  },
  {
   "cell_type": "code",
   "execution_count": 4,
   "id": "a313ca70-0a40-47b8-958a-6640e91e8952",
   "metadata": {
    "tags": []
   },
   "outputs": [
    {
     "data": {
      "text/plain": [
       "array([-0.0549128 , -0.11605099,  0.06252557, -0.22234271,  0.005193  ,\n",
       "       -0.05791497,  0.00587673, -0.09216839,  0.10094814, -0.10126231])"
      ]
     },
     "execution_count": 4,
     "metadata": {},
     "output_type": "execute_result"
    }
   ],
   "source": [
    "# Look at the first ten items.\n",
    "s[:10]"
   ]
  },
  {
   "cell_type": "code",
   "execution_count": 5,
   "id": "f59f64f3-6066-4583-a9aa-256d086a6051",
   "metadata": {},
   "outputs": [
    {
     "data": {
      "text/plain": [
       "6.173888968835372e-05"
      ]
     },
     "execution_count": 5,
     "metadata": {},
     "output_type": "execute_result"
    }
   ],
   "source": [
    "abs(mu - np.mean(s))"
   ]
  },
  {
   "cell_type": "code",
   "execution_count": 6,
   "id": "16ace1fd-450f-46d2-9824-dc15323ef374",
   "metadata": {},
   "outputs": [
    {
     "data": {
      "text/plain": [
       "0.0020958817960370496"
      ]
     },
     "execution_count": 6,
     "metadata": {},
     "output_type": "execute_result"
    }
   ],
   "source": [
    "abs(sigma - np.std(s, ddof=1))"
   ]
  },
  {
   "cell_type": "code",
   "execution_count": 7,
   "id": "014e9e4c-3cb6-4570-a580-689388f22c74",
   "metadata": {},
   "outputs": [
    {
     "data": {
      "image/png": "[encoded data removed]",
      "text/plain": [
       "<Figure size 864x432 with 1 Axes>"
      ]
     },
     "metadata": {},
     "output_type": "display_data"
    }
   ],
   "source": [
    "count, bins, ignored = plt.hist(s, 30, density=True)\n",
    "f = 1/(sigma * np.sqrt(2 * np.pi)) * np.exp(-(bins - mu)**2/(2 * sigma**2))\n",
    "plt.plot(bins, f, linewidth=2)\n",
    "plt.show()"
   ]
  },
  {
   "cell_type": "markdown",
   "id": "592cb1c2",
   "metadata": {},
   "source": [
    "<br>\n",
    "\n",
    "## Rolling dice\n",
    "\n",
    "***"
   ]
  },
  {
   "cell_type": "markdown",
   "id": "085fe1d6",
   "metadata": {},
   "source": [
    "Roll a single dice.\n",
    "\n",
    "https://numpy.org/doc/stable/reference/random/generated/numpy.random.randint.html"
   ]
  },
  {
   "cell_type": "code",
   "execution_count": 8,
   "id": "2c8b0739",
   "metadata": {},
   "outputs": [
    {
     "data": {
      "text/plain": [
       "2"
      ]
     },
     "execution_count": 8,
     "metadata": {},
     "output_type": "execute_result"
    }
   ],
   "source": [
    "# Pick a random integer between 1 (inclusive) and 7 (exclusive).\n",
    "np.random.randint(1, 7)"
   ]
  },
  {
   "cell_type": "markdown",
   "id": "c97acd5c",
   "metadata": {},
   "source": [
    "Roll several dice."
   ]
  },
  {
   "cell_type": "code",
   "execution_count": 9,
   "id": "3dce948e",
   "metadata": {},
   "outputs": [],
   "source": [
    "runs = 10000"
   ]
  },
  {
   "cell_type": "code",
   "execution_count": 10,
   "id": "f26446f6",
   "metadata": {},
   "outputs": [],
   "source": [
    "# Pick many random integers between 1 (inclusive) and 7 (exclusive).\n",
    "dice = np.random.randint(1, 7, runs)"
   ]
  },
  {
   "cell_type": "code",
   "execution_count": 11,
   "id": "777d8b98",
   "metadata": {},
   "outputs": [
    {
     "name": "stdout",
     "output_type": "stream",
     "text": [
      "[2 2 2 ... 6 2 6]\n"
     ]
    }
   ],
   "source": [
    "# See the values.\n",
    "print(dice)"
   ]
  },
  {
   "cell_type": "markdown",
   "id": "da338917",
   "metadata": {},
   "source": [
    "<br>\n",
    "\n",
    "Plot the dice rolls\n",
    "\n",
    "https://numpy.org/doc/stable/reference/generated/numpy.unique.html\n",
    "\n",
    "***"
   ]
  },
  {
   "cell_type": "code",
   "execution_count": 12,
   "id": "159e634a",
   "metadata": {
    "scrolled": true
   },
   "outputs": [
    {
     "data": {
      "text/plain": [
       "(array([1, 2, 3, 4, 5, 6]),\n",
       " array([1583, 1696, 1629, 1686, 1698, 1708], dtype=int64))"
      ]
     },
     "execution_count": 12,
     "metadata": {},
     "output_type": "execute_result"
    }
   ],
   "source": [
    "# Count the number of times each face appears.\n",
    "faces, counts = np.unique(dice, return_counts=True)\n",
    "faces, counts"
   ]
  },
  {
   "cell_type": "code",
   "execution_count": 13,
   "id": "16b5f9ef",
   "metadata": {},
   "outputs": [
    {
     "data": {
      "image/png": "[encoded data removed]",
      "text/plain": [
       "<Figure size 864x432 with 1 Axes>"
      ]
     },
     "metadata": {},
     "output_type": "display_data"
    }
   ],
   "source": [
    "# Create a new plot.\n",
    "fig, ax = plt.subplots()\n",
    "# Bar chart.\n",
    "ax.barh(faces, counts)\n",
    "# Set axis labels.\n",
    "ax.set_ylabel('Face')\n",
    "ax.set_xlabel('Count');"
   ]
  },
  {
   "cell_type": "markdown",
   "id": "aef06c2a",
   "metadata": {},
   "source": [
    "<br>\n",
    "\n",
    "## Roll more than one dice\n",
    "\n",
    "***"
   ]
  },
  {
   "cell_type": "code",
   "execution_count": 14,
   "id": "70b820c8",
   "metadata": {},
   "outputs": [
    {
     "data": {
      "text/plain": [
       "array([[2, 3],\n",
       "       [3, 5],\n",
       "       [4, 1],\n",
       "       ...,\n",
       "       [2, 4],\n",
       "       [2, 2],\n",
       "       [1, 4]])"
      ]
     },
     "execution_count": 14,
     "metadata": {},
     "output_type": "execute_result"
    }
   ],
   "source": [
    "# The number of dice to roll in each turn.\n",
    "nodice = 2\n",
    "# The number of turns.\n",
    "noturns = 10000\n",
    "# Roll the dice.\n",
    "dice = np.random.randint(1, 7, (noturns, nodice))\n",
    "# Have a look.\n",
    "dice"
   ]
  },
  {
   "cell_type": "code",
   "execution_count": 15,
   "id": "e73ed3a7",
   "metadata": {},
   "outputs": [
    {
     "data": {
      "text/plain": [
       "array([5, 8, 5, ..., 6, 4, 5])"
      ]
     },
     "execution_count": 15,
     "metadata": {},
     "output_type": "execute_result"
    }
   ],
   "source": [
    "# Sum the faces of the dice.\n",
    "totals = np.sum(dice, axis=1)\n",
    "# Have a look.\n",
    "totals"
   ]
  },
  {
   "cell_type": "code",
   "execution_count": 16,
   "id": "eec8622f",
   "metadata": {},
   "outputs": [
    {
     "data": {
      "text/plain": [
       "(array([ 2,  3,  4,  5,  6,  7,  8,  9, 10, 11, 12]),\n",
       " array([ 261,  572,  818, 1129, 1417, 1670, 1372, 1068,  841,  556,  296],\n",
       "       dtype=int64))"
      ]
     },
     "execution_count": 16,
     "metadata": {},
     "output_type": "execute_result"
    }
   ],
   "source": [
    "# Count the number of times each face appears.\n",
    "faces, counts = np.unique(totals, return_counts=True)\n",
    "faces, counts"
   ]
  },
  {
   "cell_type": "code",
   "execution_count": 17,
   "id": "c4fabd5e",
   "metadata": {},
   "outputs": [
    {
     "data": {
      "image/png": "[encoded data removed]",
      "text/plain": [
       "<Figure size 864x432 with 1 Axes>"
      ]
     },
     "metadata": {},
     "output_type": "display_data"
    }
   ],
   "source": [
    "# Create a new plot.\n",
    "fig, ax = plt.subplots()\n",
    "# Bar chart.\n",
    "ax.bar(faces, counts)\n",
    "# Set axis labels.\n",
    "ax.set_ylabel('Face')\n",
    "ax.set_xlabel('Count');"
   ]
  },
  {
   "cell_type": "markdown",
   "id": "430bdc68",
   "metadata": {},
   "source": [
    "<br>\n",
    "\n",
    "## Lots of dice\n",
    "\n",
    "***"
   ]
  },
  {
   "cell_type": "code",
   "execution_count": 18,
   "id": "28c3cc71",
   "metadata": {},
   "outputs": [
    {
     "data": {
      "image/png": "[encoded data removed]",
      "text/plain": [
       "<Figure size 864x432 with 1 Axes>"
      ]
     },
     "metadata": {},
     "output_type": "display_data"
    }
   ],
   "source": [
    "# The number of dice to roll in each turn.\n",
    "nodice = 100\n",
    "# The number of turns.\n",
    "noturns = 100000\n",
    "# Roll the dice.\n",
    "dice = np.random.randint(1, 7, (noturns, nodice))\n",
    "# Sum the faces of the dice.\n",
    "totals = np.sum(dice, axis=1)\n",
    "# Count the number of times each face appears.\n",
    "faces, counts = np.unique(totals, return_counts=True)\n",
    "# Create a new plot.\n",
    "fig, ax = plt.subplots()\n",
    "# Bar chart.\n",
    "ax.bar(faces, counts)\n",
    "# Set axis labels.\n",
    "ax.set_ylabel('Face total')\n",
    "ax.set_xlabel('Count');"
   ]
  },
  {
   "cell_type": "markdown",
   "id": "df917f64-8012-468a-8248-6e37592acf48",
   "metadata": {},
   "source": [
    "## References\n",
    "\n",
    "***\n",
    "\n",
    "[1] https://www.datacamp.com/community/tutorials/numpy-random"
   ]
  },
  {
   "cell_type": "markdown",
   "id": "7636459d-9059-4e65-9731-7a0348a02677",
   "metadata": {},
   "source": [
    "***\n",
    "\n",
    "## End"
   ]
  }
 ],
 "metadata": {
  "kernelspec": {
   "display_name": "Python 3",
   "language": "python",
   "name": "python3"
  },
  "language_info": {
   "codemirror_mode": {
    "name": "ipython",
    "version": 3
   },
   "file_extension": ".py",
   "mimetype": "text/x-python",
   "name": "python",
   "nbconvert_exporter": "python",
   "pygments_lexer": "ipython3",
   "version": "3.8.8"
  }
 },
 "nbformat": 4,
 "nbformat_minor": 5
}